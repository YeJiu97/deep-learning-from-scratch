{
 "cells": [
  {
   "cell_type": "markdown",
   "id": "8088beed-c5e7-4d76-97f9-ca92ee8449a6",
   "metadata": {},
   "source": [
    "# Quenstion 1"
   ]
  },
  {
   "cell_type": "markdown",
   "id": "bc1ee171-c934-47b4-876f-36b25749ccf6",
   "metadata": {},
   "source": [
    "## Introduction"
   ]
  },
  {
   "cell_type": "markdown",
   "id": "e482b88f-81c5-44e3-b11b-88051fd73f75",
   "metadata": {},
   "source": [
    "In the competitive aerospace manufacturing industry, efficiency and cost management are pivotal to maintaining profitability and sustaining business growth. This report addresses the operational challenge faced by a fully automated factory tasked with producing rocket engines. Each engine requires a precise composition of parts: one unit of part A, two units of part B, and four units of part C. The costs associated with these parts are `$20`, `$15`, and `$10` respectively, and the final product is sold for `$300`.\n",
    "\n",
    "The factory operates two machines with varying capabilities in terms of production speed for each part. Machine 1 and Machine 2 differ significantly in their operational efficiencies, affecting both the production throughput and cost-effectiveness. This disparity in performance presents a unique opportunity to optimize the production schedule to maximize output while minimizing costs.\n",
    "\n",
    "The approach to solving this problem involves developing a strategic production plan that leverages the strengths of each machine to their fullest. By analyzing the production times and costs associated with each part and machine, this report will propose an optimized manufacturing schedule. This schedule aims to maximize the factory's profit margins by carefully allocating tasks between the two machines to ensure the most efficient use of resources.\n",
    "\n",
    "Through a detailed analysis of machine capacities and production requirements, this report will demonstrate how strategic resource allocation can lead to substantial improvements in profitability in a manufacturing environment."
   ]
  },
  {
   "cell_type": "markdown",
   "id": "a43668a3-a7c8-4a86-a894-fe336f98ff0e",
   "metadata": {},
   "source": [
    "## Formulation of the Optimization Problem"
   ]
  },
  {
   "cell_type": "markdown",
   "id": "26153fec-d27c-4d22-bfad-705d7077923f",
   "metadata": {},
   "source": [
    "The optimization problem in this factory setup involves determining the optimal allocation of production tasks to two machines with different efficiencies, aiming to maximize profit from the sale of rocket engines. Each engine requires specific quantities of three parts (A, B, and C) with associated production costs and time constraints. The objective is to utilize the factory's resources in a way that maximizes the total number of engines produced while minimizing production time and costs.\n",
    "\n",
    "- Let $x_1, x_2, x_3$ be the number of parts A, B, and C produced by Machine 1 per week.\n",
    "- Let $y_1, y_2, y_3$ be the number of parts A, B, and C produced by Machine 2 per week.\n",
    "\n",
    "The objective is to maximize profit, which can be calculated as follows:\n",
    "\n",
    "- $\\text{Profit} = P \\times N - \\text{Cost}_{\\text{parts}}$\n",
    "\n",
    "Where:\n",
    "\n",
    "- $P$ is the profit per engine ($210).\n",
    "- $N$ is the total number of complete engines assembled.\n",
    "\n",
    "1. **Production Time Constraints**: Each machine operates 168 hours per week (24 hours/day \\times 7 days/week). Therefore:\n",
    "   - Machine 1: $3x_1 + 2x_2 + 0.5x_3 \\leq 168$\n",
    "   - Machine 2: $2y_1 + y_2 + y_3 \\leq 168$\n",
    "\n",
    "2. **Part Assembly Requirements**: To assemble one engine, the required parts must be available in the ratio of 1:2:4 (A:B:C). This can be expressed as:\n",
    "   - $x_1 + y_1 \\geq N$\n",
    "   - $x_2 + y_2 \\geq 2N$\n",
    "   - $x_3 + y_3 \\geq 4N$\n",
    "\n",
    "3. **Non-Negativity and Integer Constraints**:\n",
    "   - All variables $x_1, x_2, x_3, y_1, y_2, y_3, $ and $ N $ must be non-negative integers.\n",
    "\n",
    "The problem can be approached as an integer linear programming problem due to the integer nature of the production quantities and the linear relationships between variables. Solvers such as CPLEX, Gurobi, or even simpler tools like the Excel Solver can be used to find the optimal production quantities for each machine that maximize the overall profit."
   ]
  },
  {
   "cell_type": "markdown",
   "id": "190ad883-d3a9-47db-ac80-b69760e7a978",
   "metadata": {},
   "source": [
    "## Reporting Results with Meaningful Interpretations"
   ]
  },
  {
   "cell_type": "markdown",
   "id": "0e1fe2d8-6287-4340-a77d-51a80bbd3413",
   "metadata": {},
   "source": [
    "The optimization analysis was conducted using the linear programming solver PuLP to determine the most efficient way to allocate production tasks between two machines in order to maximize profit from manufacturing rocket engines. Each rocket engine requires different quantities of three specific parts, and the objective was to find the optimal production schedule that maximizes the number of engines produced within the constraints of machine capabilities and time.\n",
    "\n",
    "Optimization Results:\n",
    "\n",
    "- **Total Engines Produced**: 52 engines\n",
    "- **Maximum Profit Achieved**: $10,920\n",
    "- **Production Allocation**:\n",
    "  - **Machine 1**:\n",
    "    - Part A: 20 units\n",
    "    - Part B: 1 unit\n",
    "    - Part C: 210 units\n",
    "  - **Machine 2**:\n",
    "    - Part A: 32 units\n",
    "    - Part B: 104 units\n",
    "    - Part C: 0 units\n",
    "\n",
    "Interpretation:\n",
    "\n",
    "1. **Efficient Utilization of Machines**:\n",
    "   - Machine 1 has been utilized primarily to produce Part C, which is the most required part for the engines and the one that Machine 1 can produce most efficiently (0.5 hours per unit). This allocation allows Machine 1 to contribute significantly despite its slower production rates for Parts A and B.\n",
    "   - Machine 2, which has faster production times across all parts, especially Part B, is leveraged to produce more of Parts A and B. This strategic division of labor maximizes the total output by balancing the strengths of each machine.\n",
    "\n",
    "2. **Critical Constraints and Production Balance**:\n",
    "   - The allocation of production tasks indicates that managing the time efficiently to meet the part requirements (1:2:4 ratio for A:B:C) is crucial. The optimization focused on balancing the production to meet these ratios exactly, ensuring no resources are wasted.\n",
    "   - The optimal solution suggests that focusing production of Part B on Machine 2 (104 units), where it is most efficient, and leveraging Machine 1 for Part C significantly improves the production flow.\n",
    "\n",
    "3. **Profit Maximization**:\n",
    "   - The analysis results in a substantial profit of $10,920, which confirms that the strategic allocation of tasks according to machine efficiency not only meets the production requirements but also maximizes profitability under the given operational constraints."
   ]
  },
  {
   "cell_type": "markdown",
   "id": "5f1eb4b7-ef11-4883-85c6-79d6f7f2aa00",
   "metadata": {},
   "source": [
    "## Conclusion"
   ]
  },
  {
   "cell_type": "markdown",
   "id": "2ad0d463-e641-4a2d-99f0-0b5b3603a22d",
   "metadata": {},
   "source": [
    "This report outlined a focused approach to optimizing production in an automated factory that manufactures rocket engines. By employing linear programming via the PuLP solver, we devised a strategy to maximize profitability through efficient task allocation between two distinct machines.\n",
    "\n",
    "Our results demonstrated that optimal production allocation allowed the factory to produce 52 rocket engines weekly, yielding a profit of $10,920. Specifically, Machine 1 was primarily utilized to produce 210 units of Part C, effectively capitalizing on its efficiency for this part, while Machine 2 was tasked with producing 32 units of Part A and 104 units of Part B, leveraging its faster production capabilities. This strategic distribution of tasks between the machines ensured that each operated within its most productive parameters.\n",
    "\n",
    "In conclusion, the analysis confirmed that precise resource allocation tailored to the unique capabilities of each machine can significantly enhance production efficiency and profitability. The practical application of this optimization model demonstrates its effectiveness in addressing specific production challenges, providing a clear pathway to operational excellence in the manufacturing of rocket engines."
   ]
  },
  {
   "cell_type": "markdown",
   "id": "c2d065f0-8188-4fac-a04f-1aec93c61dff",
   "metadata": {},
   "source": [
    "# Question 2"
   ]
  },
  {
   "cell_type": "markdown",
   "id": "9f7bfeff-4a63-4f2f-a695-6bff7d776ab4",
   "metadata": {},
   "source": [
    "## Introduction"
   ]
  },
  {
   "cell_type": "markdown",
   "id": "9d0eb886-d9fc-4dec-844a-8d82c5d489d9",
   "metadata": {},
   "source": [
    "This report focuses on optimizing the nightly profit of a small caravan park spanning 1800 square meters. Our goal is to determine the most profitable mix of caravans and tents, given specific spatial, occupancy, and regulatory constraints. We are limited to a maximum of six caravans, and every caravan or tent has a designated space requirement—160 square meters for a caravan and 90 square meters for a tent. Additionally, occupancy constraints dictate a maximum of four people per caravan and three per tent, with a total park capacity not exceeding 48 people.\n",
    "\n",
    "To address this complex optimization problem, we will utilize Excel Solver, a tool that allows for the formulation of linear programming models to find the optimal solution under given constraints. By setting up decision variables for the number of caravans and tents, and incorporating constraints on space, number of units, and total occupancy, we aim to maximize the park's nightly revenue from the fees charged—`$30` per caravan and `$15` per tent.\n",
    "\n",
    "Following the determination of an optimal setup, we will further analyze the impact of various hypothetical scenarios using the Sensitivity Report from Excel Solver. These scenarios include significant price changes for caravans and tents, an increase in the allowable number of caravans, and a reduction in total allowable occupancy due to enhanced safety measures. This analysis will help in understanding the robustness of our optimal solution and guide management decisions under changing conditions."
   ]
  },
  {
   "cell_type": "markdown",
   "id": "10db271e-834d-4bea-a565-a6bd603782c6",
   "metadata": {},
   "source": [
    "## Proper Formulation of the Optimization Problem"
   ]
  },
  {
   "cell_type": "markdown",
   "id": "db387e15-6e11-4b61-a877-02052d89b1be",
   "metadata": {},
   "source": [
    "\n",
    "The optimization challenge for the caravan park involves maximizing the nightly profit while adhering to specific space, occupancy, and regulatory constraints. The decision variables, constraints, and objective function need to be clearly defined to structure this problem for solution using Excel Solver.\n",
    "\n",
    " Decision Variables:\n",
    "- \\( C \\): Number of caravans\n",
    "- \\( T \\): Number of tents\n",
    "\n",
    "Objective Function:\n",
    "The objective is to maximize profit, calculated as:\n",
    "\\[ \\text{Profit} = 30C + 15T \\]\n",
    "Where \\( \\$30 \\) is the revenue per caravan per night and \\( \\$15 \\) is the revenue per tent per night.\n",
    "\n",
    "Constraints:\n",
    "1. **Space Constraints**:\n",
    "   - Each caravan requires 160 sq.m. and each tent requires 90 sq.m. The total space available is 1800 sq.m.\n",
    "   \\[ 160C + 90T \\leq 1800 \\]\n",
    "\n",
    "2. **Caravan Limitation**:\n",
    "   - The park cannot accommodate more than 6 caravans.\n",
    "   \\[ C \\leq 6 \\]\n",
    "\n",
    "3. **Occupancy Constraints**:\n",
    "   - A caravan can house up to 4 people, and a tent can house up to 3 people. The total number of people must not exceed 48.\n",
    "   \\[ 4C + 3T \\leq 48 \\]\n",
    "\n",
    "4. **Non-Negativity and Integer Requirements**:\n",
    "   - The number of caravans and tents must be non-negative integers.\n",
    "   \\[ C, T \\geq 0 \\]\n",
    "   \\[ C, T \\in \\text{Integers} \\]\n",
    "\n",
    "Solving the Problem:\n",
    "\n",
    "This problem is a mixed-integer linear programming problem due to the integer nature of the decision variables and the linear relationship in the constraints and objective function. Excel Solver is well-suited for this type of problem, and it will be configured to use the Simplex LP solving method, ensuring that the variables adhere to their integer constraints.\n",
    "\n",
    "Using this model setup, Excel Solver will identify the optimal number of caravans and tents that should be deployed to maximize the nightly profit of the caravan park, given the constraints on space, number of units, and total occupancy. This solution will guide the park management in making informed decisions about resource allocation to achieve maximum profitability."
   ]
  }
 ],
 "metadata": {
  "kernelspec": {
   "display_name": "Python 3 (ipykernel)",
   "language": "python",
   "name": "python3"
  },
  "language_info": {
   "codemirror_mode": {
    "name": "ipython",
    "version": 3
   },
   "file_extension": ".py",
   "mimetype": "text/x-python",
   "name": "python",
   "nbconvert_exporter": "python",
   "pygments_lexer": "ipython3",
   "version": "3.11.9"
  }
 },
 "nbformat": 4,
 "nbformat_minor": 5
}
